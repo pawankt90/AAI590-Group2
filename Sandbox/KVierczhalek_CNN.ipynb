{
 "cells": [
  {
   "cell_type": "code",
   "execution_count": null,
   "metadata": {},
   "outputs": [],
   "source": [
    "import os\n",
    "import numpy as np\n",
    "import tensorflow as tf\n",
    "import matplotlib.pyplot as plt\n",
    "import pandas as pd\n",
    "from tensorflow import keras\n",
    "from tensorflow.keras import layers, models\n",
    "from sklearn.metrics import classification_report, accuracy_score, precision_score, recall_score, f1_score"
   ]
  },
  {
   "cell_type": "markdown",
   "metadata": {},
   "source": [
    "## CNN Model Creation\n",
    "The following function builds the basic CNN model that will be used as a \"benchmark\" model to compare how data impacts the results of the prediction model. The model consists of three convolutional layers, each followed by max-pooling to downsample features.\n",
    "A fully connected dense layer helps learn patterns before the final classification layer.\n",
    "The softmax output layer assigns probabilities for normal vs pneumonia classification."
   ]
  },
  {
   "cell_type": "code",
   "execution_count": null,
   "metadata": {},
   "outputs": [],
   "source": [
    "# Define a function to create the CNN model\n",
    "def create_cnn(input_shape=(224, 224, 3), num_classes=2):\n",
    "    model = models.Sequential([\n",
    "        layers.Conv2D(32, (3,3), activation='relu', input_shape=input_shape),\n",
    "        layers.MaxPooling2D((2,2)),\n",
    "        layers.Conv2D(64, (3,3), activation='relu'),\n",
    "        layers.MaxPooling2D((2,2)),\n",
    "        layers.Conv2D(128, (3,3), activation='relu'),\n",
    "        layers.MaxPooling2D((2,2)),\n",
    "        layers.Flatten(),\n",
    "        layers.Dense(128, activation='relu'),\n",
    "        layers.Dense(num_classes, activation='softmax')\n",
    "    ])\n",
    "    model.compile(optimizer='adam', loss='sparse_categorical_crossentropy', metrics=['accuracy'])\n",
    "    return model"
   ]
  },
  {
   "cell_type": "code",
   "execution_count": null,
   "metadata": {},
   "outputs": [],
   "source": [
    "# Function to load dataset dynamically\n",
    "def load_dataset(data_filepath, img_size=(224,224)):\n",
    "    data = []\n",
    "\n",
    "    # Loop through NORMAL and PNEUMONIA directories, and label images accordingly\n",
    "    for label_name in [\"NORMAL\", \"PNEUMONIA\"]:\n",
    "        label_dir = os.path.join(data_filepath, label_name)\n",
    "        for file_name in os.listdir(label_dir):\n",
    "            file_path = os.path.join(label_dir, file_name)\n",
    "            # Ensure it's an image file (basic check)\n",
    "            if file_name.endswith(('.png', '.jpg', '.jpeg')):\n",
    "                data.append([dir, file_path, label_name])\n",
    "\n",
    "        \n",
    "    # Create DataFrame\n",
    "    df = pd.DataFrame(data, columns=[\"directory\", \"image_path\", \"label\"])\n",
    "    return df"
   ]
  },
  {
   "cell_type": "code",
   "execution_count": null,
   "metadata": {},
   "outputs": [],
   "source": [
    "# Function to train and evaluate the model\n",
    "def train_and_evaluate(model, train_ds, val_ds, test_ds, test_description=\"example_test\"):\n",
    "    results_path = f\"{test_description}_results.csv\"\n",
    "    history = model.fit(train_ds, validation_data=val_ds, epochs=10)\n",
    "    y_true, y_pred = [], []\n",
    "    \n",
    "    for images, labels in test_ds:\n",
    "        preds = np.argmax(model.predict(images), axis=1)\n",
    "        y_true.extend(labels.numpy())\n",
    "        y_pred.extend(preds)\n",
    "    \n",
    "    accuracy = accuracy_score(y_true, y_pred)\n",
    "    precision = precision_score(y_true, y_pred, average='weighted')\n",
    "    recall = recall_score(y_true, y_pred, average='weighted')\n",
    "    f1 = f1_score(y_true, y_pred, average='weighted')\n",
    "    \n",
    "    results_df = pd.DataFrame({\n",
    "        'Accuracy': [accuracy],\n",
    "        'Precision': [precision],\n",
    "        'Recall': [recall],\n",
    "        'F1 Score': [f1]\n",
    "    })\n",
    "    \n",
    "    results_df.to_csv(results_path, index=False)\n",
    "    print(\"Metrics saved to\", results_path)\n",
    "    print(classification_report(y_true, y_pred))\n",
    "    return history, y_true, y_pred, results_df"
   ]
  },
  {
   "cell_type": "code",
   "execution_count": null,
   "metadata": {},
   "outputs": [],
   "source": [
    "# Function to visualize results\n",
    "def plot_results(history, y_true, y_pred):\n",
    "    plt.figure(figsize=(10,5))\n",
    "    plt.subplot(1,2,1)\n",
    "    plt.plot(history.history['accuracy'], label='Train Acc')\n",
    "    plt.plot(history.history['val_accuracy'], label='Val Acc')\n",
    "    plt.legend()\n",
    "    plt.title('Training & Validation Accuracy')\n",
    "    \n",
    "    plt.subplot(1,2,2)\n",
    "    print(\"Accuracy:\", accuracy_score(y_true, y_pred))\n",
    "    plt.show()"
   ]
  },
  {
   "cell_type": "code",
   "execution_count": null,
   "metadata": {},
   "outputs": [],
   "source": [
    "import kagglehub\n",
    "\n",
    "# Download latest version\n",
    "path = kagglehub.dataset_download(\"paultimothymooney/chest-xray-pneumonia\")\n",
    "\n",
    "print(\"Path to dataset files:\", path)\n",
    "import shutil\n",
    "shutil.move(path + \"/chest_xray/chest_xray\", \"./chest_xray\")"
   ]
  },
  {
   "cell_type": "code",
   "execution_count": null,
   "metadata": {},
   "outputs": [],
   "source": [
    "data_path = \"./chest_xray\"\n",
    "test_description = \"short_test_description\"\n",
    "train_ds = load_dataset(os.path.join(data_path, \"train\"))\n",
    "val_ds = load_dataset(os.path.join(data_path, \"val\"))\n",
    "test_ds = load_dataset(os.path.join(data_path, \"test\"))\n",
    "\n",
    "cnn_model = create_cnn()\n",
    "history, y_true, y_pred, results_df = train_and_evaluate(cnn_model, train_ds, val_ds, test_ds, test_description=test_description)\n",
    "plot_results(history, y_true, y_pred)"
   ]
  }
 ],
 "metadata": {
  "kernelspec": {
   "display_name": "Python 3",
   "language": "python",
   "name": "python3"
  },
  "language_info": {
   "codemirror_mode": {
    "name": "ipython",
    "version": 3
   },
   "file_extension": ".py",
   "mimetype": "text/x-python",
   "name": "python",
   "nbconvert_exporter": "python",
   "pygments_lexer": "ipython3",
   "version": "3.12.1"
  }
 },
 "nbformat": 4,
 "nbformat_minor": 2
}
